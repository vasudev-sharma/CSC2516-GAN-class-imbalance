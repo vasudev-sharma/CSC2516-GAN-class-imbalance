{
 "cells": [
  {
   "cell_type": "code",
   "execution_count": 4,
   "id": "facd15a8-d1e4-473f-b66e-3ed398e4fbbd",
   "metadata": {},
   "outputs": [
    {
     "name": "stdout",
     "output_type": "stream",
     "text": [
      "Downloading dataset\n",
      "Cloning into 'COVID-19'...\n",
      "remote: Enumerating objects: 1237, done.\u001b[K\n",
      "remote: Counting objects: 100% (81/81), done.\u001b[K\n",
      "remote: Compressing objects: 100% (80/80), done.\u001b[K\n",
      "remote: Total 1237 (delta 27), reused 4 (delta 1), pack-reused 1156\u001b[K\n",
      "Receiving objects: 100% (1237/1237), 400.89 MiB | 41.73 MiB/s, done.\n",
      "Resolving deltas: 100% (29/29), done.\n",
      "Updating files: 100% (1129/1129), done.\n"
     ]
    }
   ],
   "source": [
    "\"\"\"\n",
    "Loading and editing unbalanced dataset in: \n",
    "url = \"https://github.com/muhammedtalo/COVID-19\"\n",
    "\"\"\"\n",
    "#import wget\n",
    "import os\n",
    "print('Downloading dataset')\n",
    "# 1. Cloning the repository\n",
    "user = \"muhammedtalo\"\n",
    "repo = \"COVID-19\"\n",
    "if os.path.isdir(repo):\n",
    "    !rm -rf {repo}\n",
    "    \n",
    "!git clone https://github.com/{user}/{repo}.git"
   ]
  },
  {
   "cell_type": "code",
   "execution_count": 5,
   "id": "847d6c1c-be6c-4529-9dad-726e8123f67d",
   "metadata": {},
   "outputs": [],
   "source": [
    "# 2. Renaming the main folder and removing other files\n",
    "baseFolder = repo\n",
    "for fn in os.listdir(baseFolder):\n",
    "    if not os.path.isdir(os.path.join(baseFolder, fn)):\n",
    "        os.remove(os.path.join(baseFolder,fn))\n",
    "    if 'DataSet' in fn:\n",
    "        os.rename(os.path.join(baseFolder, fn), os.path.join(baseFolder, \"dataset\"))"
   ]
  },
  {
   "cell_type": "code",
   "execution_count": 6,
   "id": "623586a4-6c2e-4f3e-99ef-64f222f73818",
   "metadata": {},
   "outputs": [],
   "source": [
    "# 3. Renaming folders and files inside folders\n",
    "datasetPath = baseFolder+\"/dataset\"\n",
    "folderNames = []\n",
    "for fn in os.listdir(datasetPath):\n",
    "    os.rename(os.path.join(datasetPath, fn), os.path.join(datasetPath, fn.lower()))\n",
    "    folderNames.append(fn)\n",
    "\n",
    "for folder in folderNames:\n",
    "    path = datasetPath+\"/\"+folder\n",
    "    x, y, z = 1, 1, 1\n",
    "    for fn in os.listdir(path):\n",
    "        print(fn)\n",
    "        if 'covid-19' == fn:\n",
    "            os.rename( os.path.join(path, fn), os.path.join(path, \"covid_\"+str(x)+\".jpg\") )\n",
    "            x += 1\n",
    "        elif 'no_finding' == fn:\n",
    "            os.rename( os.path.join(path, fn), os.path.join(path, \"no_finding_\"+str(y)+\".jpg\") )\n",
    "            y += 1\n",
    "        else:\n",
    "            os.rename( os.path.join(path, fn), os.path.join(path, \"pneumonia_\"+str(z)+\".jpg\") )\n",
    "            z += 1"
   ]
  },
  {
   "cell_type": "code",
   "execution_count": null,
   "id": "93b18eaf-dcc0-424b-968a-65932f41c65e",
   "metadata": {},
   "outputs": [],
   "source": []
  }
 ],
 "metadata": {
  "kernelspec": {
   "display_name": "Python 3 (ipykernel)",
   "language": "python",
   "name": "python3"
  },
  "language_info": {
   "codemirror_mode": {
    "name": "ipython",
    "version": 3
   },
   "file_extension": ".py",
   "mimetype": "text/x-python",
   "name": "python",
   "nbconvert_exporter": "python",
   "pygments_lexer": "ipython3",
   "version": "3.9.7"
  }
 },
 "nbformat": 4,
 "nbformat_minor": 5
}
