{
  "cells": [
    {
      "cell_type": "markdown",
      "source": [
        "####**Read this first**:\n",
        "\n",
        "This notebook is a **rough notebook**, it contains several tests and experiments and is far from its final form. "
      ],
      "metadata": {
        "id": "jDfFzileNVh9"
      }
    },
    {
      "cell_type": "code",
      "source": [
        "from google.colab import drive"
      ],
      "metadata": {
        "id": "BWz-vVG--9PX"
      },
      "execution_count": null,
      "outputs": []
    },
    {
      "cell_type": "code",
      "execution_count": null,
      "metadata": {
        "colab": {
          "base_uri": "https://localhost:8080/"
        },
        "id": "tQNj1Pb66-W9",
        "outputId": "9c439b5c-1c20-4ab5-80f6-97fad734edb4"
      },
      "outputs": [
        {
          "output_type": "stream",
          "name": "stdout",
          "text": [
            "bagan_gp_results  images.npy\t\tOriginal_Paper\t\tx_train.npy\n",
            "COVID-19\t  improved_bagan_gp.py\ttsne_feature_resnet.py\ty_train.npy\n",
            "fetch_data.py\t  logs\t\t\ttsne_plot.py\n",
            "fid_score.py\t  old_thing\t\twandb\n",
            "/content/drive/My Drive/Improved_BAGAN\n"
          ]
        }
      ],
      "source": [
        "!ls \"/content/drive/My Drive/Improved_BAGAN\"\n",
        "%cd /content/drive/My\\ Drive/Improved_BAGAN"
      ]
    },
    {
      "cell_type": "code",
      "execution_count": null,
      "metadata": {
        "id": "WdSVrVdO8FBW",
        "colab": {
          "base_uri": "https://localhost:8080/"
        },
        "outputId": "82def11c-835f-43da-a84e-800d875657d4"
      },
      "outputs": [
        {
          "output_type": "stream",
          "name": "stdout",
          "text": [
            "\u001b[K     |████████████████████████████████| 1.8 MB 29.5 MB/s \n",
            "\u001b[K     |████████████████████████████████| 144 kB 68.4 MB/s \n",
            "\u001b[K     |████████████████████████████████| 181 kB 67.1 MB/s \n",
            "\u001b[K     |████████████████████████████████| 63 kB 2.2 MB/s \n",
            "\u001b[?25h  Building wheel for pathtools (setup.py) ... \u001b[?25l\u001b[?25hdone\n"
          ]
        }
      ],
      "source": [
        "!pip install -qq wandb"
      ]
    },
    {
      "cell_type": "code",
      "execution_count": null,
      "metadata": {
        "colab": {
          "base_uri": "https://localhost:8080/",
          "height": 108
        },
        "id": "zXR8vlNqD4w9",
        "outputId": "086eba1d-9e3a-4ade-e20d-ba22564a9268"
      },
      "outputs": [
        {
          "output_type": "display_data",
          "data": {
            "text/plain": [
              "<IPython.core.display.Javascript object>"
            ],
            "application/javascript": [
              "\n",
              "        window._wandbApiKey = new Promise((resolve, reject) => {\n",
              "            function loadScript(url) {\n",
              "            return new Promise(function(resolve, reject) {\n",
              "                let newScript = document.createElement(\"script\");\n",
              "                newScript.onerror = reject;\n",
              "                newScript.onload = resolve;\n",
              "                document.body.appendChild(newScript);\n",
              "                newScript.src = url;\n",
              "            });\n",
              "            }\n",
              "            loadScript(\"https://cdn.jsdelivr.net/npm/postmate/build/postmate.min.js\").then(() => {\n",
              "            const iframe = document.createElement('iframe')\n",
              "            iframe.style.cssText = \"width:0;height:0;border:none\"\n",
              "            document.body.appendChild(iframe)\n",
              "            const handshake = new Postmate({\n",
              "                container: iframe,\n",
              "                url: 'https://wandb.ai/authorize'\n",
              "            });\n",
              "            const timeout = setTimeout(() => reject(\"Couldn't auto authenticate\"), 5000)\n",
              "            handshake.then(function(child) {\n",
              "                child.on('authorize', data => {\n",
              "                    clearTimeout(timeout)\n",
              "                    resolve(data)\n",
              "                });\n",
              "            });\n",
              "            })\n",
              "        });\n",
              "    "
            ]
          },
          "metadata": {}
        },
        {
          "output_type": "stream",
          "name": "stderr",
          "text": [
            "\u001b[34m\u001b[1mwandb\u001b[0m: You can find your API key in your browser here: https://wandb.ai/authorize\n"
          ]
        },
        {
          "name": "stdout",
          "output_type": "stream",
          "text": [
            "wandb: Paste an API key from your profile and hit enter, or press ctrl+c to quit: ··········\n"
          ]
        },
        {
          "output_type": "stream",
          "name": "stderr",
          "text": [
            "\u001b[34m\u001b[1mwandb\u001b[0m: Appending key for api.wandb.ai to your netrc file: /root/.netrc\n"
          ]
        },
        {
          "output_type": "execute_result",
          "data": {
            "text/plain": [
              "True"
            ]
          },
          "metadata": {},
          "execution_count": 4
        }
      ],
      "source": [
        "import wandb\n",
        "wandb.login()"
      ]
    },
    {
      "cell_type": "markdown",
      "source": [
        "# Bagan Tests"
      ],
      "metadata": {
        "id": "7mCgG9bV2tCb"
      }
    },
    {
      "cell_type": "code",
      "execution_count": null,
      "metadata": {
        "colab": {
          "base_uri": "https://localhost:8080/"
        },
        "id": "pLN5u6LP8RGf",
        "outputId": "c32ecfe9-ef98-43e3-a8d0-b60ea71b94be"
      },
      "outputs": [
        {
          "name": "stdout",
          "output_type": "stream",
          "text": [
            "\u001b[34m\u001b[1mwandb\u001b[0m: Currently logged in as: \u001b[33mjgim\u001b[0m (use `wandb login --relogin` to force relogin)\n",
            "\u001b[34m\u001b[1mwandb\u001b[0m: Tracking run with wandb version 0.12.12\n",
            "\u001b[34m\u001b[1mwandb\u001b[0m: Run data is saved locally in \u001b[35m\u001b[1m/content/drive/MyDrive/Improved_BAGAN/wandb/run-20220405_184958-3b8gjy8y\u001b[0m\n",
            "\u001b[34m\u001b[1mwandb\u001b[0m: Run \u001b[1m`wandb offline`\u001b[0m to turn off syncing.\n",
            "\u001b[34m\u001b[1mwandb\u001b[0m: Syncing run \u001b[33mglorious-elevator-1\u001b[0m\n",
            "\u001b[34m\u001b[1mwandb\u001b[0m: ⭐️ View project at \u001b[34m\u001b[4mhttps://wandb.ai/jgim/improved_bagan_mnist_fashion_default\u001b[0m\n",
            "\u001b[34m\u001b[1mwandb\u001b[0m: 🚀 View run at \u001b[34m\u001b[4mhttps://wandb.ai/jgim/improved_bagan_mnist_fashion_default/runs/3b8gjy8y\u001b[0m\n",
            "/usr/local/lib/python3.7/dist-packages/keras/optimizer_v2/adam.py:105: UserWarning: The `lr` argument is deprecated, use `learning_rate` instead.\n",
            "  super(Adam, self).__init__(name, **kwargs)\n",
            "2022-04-05 18:50:03.079912: E tensorflow/stream_executor/cuda/cuda_driver.cc:271] failed call to cuInit: CUDA_ERROR_NO_DEVICE: no CUDA-capable device is detected\n",
            "Epoch 1/30\n",
            "58/58 [==============================] - 143s 2s/step - loss: 0.3179 - val_loss: 0.6777\n",
            "Epoch 2/30\n",
            "58/58 [==============================] - 145s 2s/step - loss: 0.1531 - val_loss: 0.6304\n",
            "Epoch 3/30\n",
            "58/58 [==============================] - 145s 3s/step - loss: 0.1280 - val_loss: 0.5994\n",
            "Epoch 4/30\n",
            "58/58 [==============================] - 138s 2s/step - loss: 0.1165 - val_loss: 0.5764\n",
            "Epoch 5/30\n",
            "58/58 [==============================] - 138s 2s/step - loss: 0.1096 - val_loss: 0.5495\n",
            "Epoch 6/30\n",
            "58/58 [==============================] - 138s 2s/step - loss: 0.1034 - val_loss: 0.5028\n",
            "Epoch 7/30\n",
            "58/58 [==============================] - 139s 2s/step - loss: 0.0991 - val_loss: 0.4474\n",
            "Epoch 8/30\n",
            "58/58 [==============================] - 138s 2s/step - loss: 0.0963 - val_loss: 0.3430\n",
            "Epoch 9/30\n",
            "58/58 [==============================] - 138s 2s/step - loss: 0.0927 - val_loss: 0.2506\n",
            "Epoch 10/30\n",
            "58/58 [==============================] - 138s 2s/step - loss: 0.0900 - val_loss: 0.1857\n",
            "Epoch 11/30\n",
            "58/58 [==============================] - 138s 2s/step - loss: 0.0883 - val_loss: 0.1433\n",
            "Epoch 12/30\n",
            "58/58 [==============================] - 138s 2s/step - loss: 0.0866 - val_loss: 0.1033\n",
            "Epoch 13/30\n",
            "58/58 [==============================] - 138s 2s/step - loss: 0.0842 - val_loss: 0.0866\n",
            "Epoch 14/30\n",
            "58/58 [==============================] - 139s 2s/step - loss: 0.0831 - val_loss: 0.0879\n",
            "Epoch 15/30\n",
            "58/58 [==============================] - 138s 2s/step - loss: 0.0812 - val_loss: 0.0877\n",
            "Epoch 16/30\n",
            "58/58 [==============================] - 138s 2s/step - loss: 0.0794 - val_loss: 0.0867\n",
            "Epoch 17/30\n",
            "58/58 [==============================] - 138s 2s/step - loss: 0.0787 - val_loss: 0.0809\n",
            "Epoch 18/30\n",
            "58/58 [==============================] - 139s 2s/step - loss: 0.0774 - val_loss: 0.0841\n",
            "Epoch 19/30\n",
            "58/58 [==============================] - 140s 2s/step - loss: 0.0759 - val_loss: 0.0965\n",
            "Epoch 20/30\n",
            "58/58 [==============================] - 141s 2s/step - loss: 0.0754 - val_loss: 0.0868\n",
            "Epoch 21/30\n",
            "58/58 [==============================] - 140s 2s/step - loss: 0.0744 - val_loss: 0.0777\n",
            "Epoch 22/30\n",
            "58/58 [==============================] - 139s 2s/step - loss: 0.0722 - val_loss: 0.0888\n",
            "Epoch 23/30\n",
            "58/58 [==============================] - 140s 2s/step - loss: 0.0723 - val_loss: 0.0781\n",
            "Epoch 24/30\n",
            "58/58 [==============================] - 141s 2s/step - loss: 0.0709 - val_loss: 0.0740\n",
            "Epoch 25/30\n",
            "58/58 [==============================] - 138s 2s/step - loss: 0.0699 - val_loss: 0.0767\n",
            "Epoch 26/30\n",
            "58/58 [==============================] - 139s 2s/step - loss: 0.0693 - val_loss: 0.0822\n",
            "Epoch 27/30\n",
            "58/58 [==============================] - 139s 2s/step - loss: 0.0682 - val_loss: 0.0751\n",
            "Epoch 28/30\n",
            "58/58 [==============================] - 138s 2s/step - loss: 0.0678 - val_loss: 0.0722\n",
            "Epoch 29/30\n",
            "58/58 [==============================] - 138s 2s/step - loss: 0.0675 - val_loss: 0.0710\n",
            "Epoch 30/30\n",
            "58/58 [==============================] - 138s 2s/step - loss: 0.0667 - val_loss: 0.0867\n",
            "<Figure size 2000x400 with 20 Axes>\n",
            "LEARNING STEP #  1 --------------------------------------------------\n",
            "Epoch 1/2\n",
            "58/58 [==============================] - 1704s 29s/step - d_loss: 1.5688 - g_loss: 3.3953\n",
            "Epoch 2/2\n",
            "58/58 [==============================] - 1702s 29s/step - d_loss: 0.6869 - g_loss: 3.8742\n",
            "Traceback (most recent call last):\n",
            "  File \"improved_bagan_gp.py\", line 549, in <module>\n",
            "    plt_img(bagan_gp.generator, learning_step)\n",
            "  File \"improved_bagan_gp.py\", line 528, in plt_img\n",
            "    wandb.log({\"example\": wandb.Image(img_str)})\n",
            "  File \"/usr/local/lib/python3.7/dist-packages/wandb/sdk/data_types/image.py\", line 133, in __init__\n",
            "    self._initialize_from_path(data_or_path)\n",
            "  File \"/usr/local/lib/python3.7/dist-packages/wandb/sdk/data_types/image.py\", line 227, in _initialize_from_path\n",
            "    self._set_file(path, is_tmp=False)\n",
            "  File \"/usr/local/lib/python3.7/dist-packages/wandb/sdk/data_types/base_types/media.py\", line 66, in _set_file\n",
            "    with open(self._path, \"rb\") as f:\n",
            "FileNotFoundError: [Errno 2] No such file or directory: 'bagan_gp_results/generated_plot_0.png'\n",
            "\n",
            "\u001b[34m\u001b[1mwandb\u001b[0m: Waiting for W&B process to finish... \u001b[31m(failed 1).\u001b[0m Press Control-C to abort syncing.\n",
            "\u001b[34m\u001b[1mwandb\u001b[0m:                                                                                \n",
            "\u001b[34m\u001b[1mwandb\u001b[0m: Synced \u001b[33mglorious-elevator-1\u001b[0m: \u001b[34m\u001b[4mhttps://wandb.ai/jgim/improved_bagan_mnist_fashion_default/runs/3b8gjy8y\u001b[0m\n",
            "\u001b[34m\u001b[1mwandb\u001b[0m: Synced 5 W&B file(s), 0 media file(s), 0 artifact file(s) and 0 other file(s)\n",
            "\u001b[34m\u001b[1mwandb\u001b[0m: Find logs at: \u001b[35m\u001b[1m./wandb/run-20220405_184958-3b8gjy8y/logs\u001b[0m\n"
          ]
        }
      ],
      "source": [
        "!python improved_bagan_gp.py"
      ]
    },
    {
      "cell_type": "code",
      "execution_count": null,
      "metadata": {
        "colab": {
          "background_save": true,
          "base_uri": "https://localhost:8080/"
        },
        "id": "rBq7DYKi9QKf",
        "outputId": "b8b417e7-3293-48aa-859b-078a5bf7a28f"
      },
      "outputs": [
        {
          "name": "stdout",
          "output_type": "stream",
          "text": [
            "\u001b[34m\u001b[1mwandb\u001b[0m: Currently logged in as: \u001b[33mjgim\u001b[0m (use `wandb login --relogin` to force relogin)\n",
            "\u001b[34m\u001b[1mwandb\u001b[0m: Tracking run with wandb version 0.12.12\n",
            "\u001b[34m\u001b[1mwandb\u001b[0m: Run data is saved locally in \u001b[35m\u001b[1m/content/drive/MyDrive/Improved_BAGAN/wandb/run-20220405_212439-drgdw1z1\u001b[0m\n",
            "\u001b[34m\u001b[1mwandb\u001b[0m: Run \u001b[1m`wandb offline`\u001b[0m to turn off syncing.\n",
            "\u001b[34m\u001b[1mwandb\u001b[0m: Syncing run \u001b[33mfutile-dominion-6\u001b[0m\n",
            "\u001b[34m\u001b[1mwandb\u001b[0m: ⭐️ View project at \u001b[34m\u001b[4mhttps://wandb.ai/jgim/improved_bagan_mnist_fashion_default\u001b[0m\n",
            "\u001b[34m\u001b[1mwandb\u001b[0m: 🚀 View run at \u001b[34m\u001b[4mhttps://wandb.ai/jgim/improved_bagan_mnist_fashion_default/runs/drgdw1z1\u001b[0m\n",
            "images.shape: (10001, 28, 28)\n",
            "labels.shape: (10001,)\n",
            "/usr/local/lib/python3.7/dist-packages/keras/optimizer_v2/adam.py:105: UserWarning: The `lr` argument is deprecated, use `learning_rate` instead.\n",
            "  super(Adam, self).__init__(name, **kwargs)\n",
            "2022-04-05 21:24:43.675007: E tensorflow/stream_executor/cuda/cuda_driver.cc:271] failed call to cuInit: CUDA_ERROR_NO_DEVICE: no CUDA-capable device is detected\n",
            "Epoch 1/30\n",
            "30/30 [==============================] - 74s 2s/step - loss: 0.4411 - val_loss: 0.7219\n",
            "Epoch 2/30\n",
            "30/30 [==============================] - 75s 3s/step - loss: 0.2208 - val_loss: 0.6988\n",
            "Epoch 3/30\n",
            "30/30 [==============================] - 73s 2s/step - loss: 0.1660 - val_loss: 0.6650\n",
            "Epoch 4/30\n",
            "30/30 [==============================] - 73s 2s/step - loss: 0.1431 - val_loss: 0.6341\n",
            "Epoch 5/30\n",
            "30/30 [==============================] - 73s 2s/step - loss: 0.1312 - val_loss: 0.6118\n",
            "Epoch 6/30\n",
            "30/30 [==============================] - 72s 2s/step - loss: 0.1254 - val_loss: 0.5967\n",
            "Epoch 7/30\n",
            "30/30 [==============================] - 72s 2s/step - loss: 0.1194 - val_loss: 0.5829\n",
            "Epoch 8/30\n",
            "30/30 [==============================] - 72s 2s/step - loss: 0.1159 - val_loss: 0.5695\n",
            "Epoch 9/30\n",
            "30/30 [==============================] - 73s 2s/step - loss: 0.1121 - val_loss: 0.5554\n",
            "Epoch 10/30\n",
            "30/30 [==============================] - 73s 2s/step - loss: 0.1084 - val_loss: 0.5366\n",
            "Epoch 11/30\n",
            "30/30 [==============================] - 72s 2s/step - loss: 0.1058 - val_loss: 0.5037\n",
            "Epoch 12/30\n",
            "30/30 [==============================] - 72s 2s/step - loss: 0.1039 - val_loss: 0.4856\n",
            "Epoch 13/30\n",
            "30/30 [==============================] - 72s 2s/step - loss: 0.1011 - val_loss: 0.4450\n",
            "Epoch 14/30\n",
            "30/30 [==============================] - 72s 2s/step - loss: 0.0992 - val_loss: 0.4053\n",
            "Epoch 15/30\n",
            "30/30 [==============================] - 72s 2s/step - loss: 0.0975 - val_loss: 0.3765\n",
            "Epoch 16/30\n",
            "30/30 [==============================] - 72s 2s/step - loss: 0.0964 - val_loss: 0.3159\n",
            "Epoch 17/30\n",
            "30/30 [==============================] - 72s 2s/step - loss: 0.0936 - val_loss: 0.2568\n",
            "Epoch 18/30\n",
            "30/30 [==============================] - 72s 2s/step - loss: 0.0934 - val_loss: 0.2351\n",
            "Epoch 19/30\n",
            "30/30 [==============================] - 72s 2s/step - loss: 0.0913 - val_loss: 0.1879\n",
            "Epoch 20/30\n",
            "30/30 [==============================] - 72s 2s/step - loss: 0.0897 - val_loss: 0.1780\n",
            "Epoch 21/30\n",
            "30/30 [==============================] - 72s 2s/step - loss: 0.0888 - val_loss: 0.1419\n",
            "Epoch 22/30\n",
            "30/30 [==============================] - 72s 2s/step - loss: 0.0889 - val_loss: 0.1280\n",
            "Epoch 23/30\n",
            "30/30 [==============================] - 72s 2s/step - loss: 0.0871 - val_loss: 0.1131\n",
            "Epoch 24/30\n",
            "30/30 [==============================] - 72s 2s/step - loss: 0.0855 - val_loss: 0.1202\n",
            "Epoch 25/30\n",
            "30/30 [==============================] - 72s 2s/step - loss: 0.0855 - val_loss: 0.0944\n",
            "Epoch 26/30\n",
            "30/30 [==============================] - 72s 2s/step - loss: 0.0837 - val_loss: 0.0892\n",
            "Epoch 27/30\n",
            "30/30 [==============================] - 72s 2s/step - loss: 0.0824 - val_loss: 0.0882\n",
            "Epoch 28/30\n",
            "30/30 [==============================] - 73s 2s/step - loss: 0.0815 - val_loss: 0.0899\n",
            "Epoch 29/30\n",
            "30/30 [==============================] - 73s 2s/step - loss: 0.0822 - val_loss: 0.0860\n",
            "Epoch 30/30\n",
            "30/30 [==============================] - 73s 2s/step - loss: 0.0798 - val_loss: 0.0866\n",
            "<Figure size 2000x400 with 20 Axes>\n",
            "LEARNING STEP #  1 --------------------------------------------------\n",
            "Epoch 1/2\n",
            "Traceback (most recent call last):\n",
            "  File \"improved_bagan_gp.py\", line 551, in <module>\n",
            "    bagan_gp.fit(x_train, y_train, batch_size=128, epochs=2)\n",
            "  File \"/usr/local/lib/python3.7/dist-packages/keras/utils/traceback_utils.py\", line 67, in error_handler\n",
            "    raise e.with_traceback(filtered_tb) from None\n",
            "  File \"/usr/local/lib/python3.7/dist-packages/tensorflow/python/framework/func_graph.py\", line 1147, in autograph_handler\n",
            "    raise e.ag_error_metadata.to_exception(e)\n",
            "ValueError: in user code:\n",
            "\n",
            "    File \"/usr/local/lib/python3.7/dist-packages/keras/engine/training.py\", line 1021, in train_function  *\n",
            "        return step_function(self, iterator)\n",
            "    File \"/usr/local/lib/python3.7/dist-packages/keras/engine/training.py\", line 1010, in step_function  **\n",
            "        outputs = model.distribute_strategy.run(run_step, args=(data,))\n",
            "    File \"/usr/local/lib/python3.7/dist-packages/keras/engine/training.py\", line 1000, in run_step  **\n",
            "        outputs = model.train_step(data)\n",
            "    File \"improved_bagan_gp.py\", line 409, in train_step\n",
            "        #wandb.log({\"train_disc_loss\":d_loss})\n",
            "    File \"/usr/local/lib/python3.7/dist-packages/wandb/sdk/wandb_run.py\", line 256, in wrapper\n",
            "        return func(self, *args, **kwargs)\n",
            "    File \"/usr/local/lib/python3.7/dist-packages/wandb/sdk/wandb_run.py\", line 222, in wrapper\n",
            "        return func(self, *args, **kwargs)\n",
            "    File \"/usr/local/lib/python3.7/dist-packages/wandb/sdk/wandb_run.py\", line 1545, in log\n",
            "        self._log(data=data, step=step, commit=commit)\n",
            "    File \"/usr/local/lib/python3.7/dist-packages/wandb/sdk/wandb_run.py\", line 1336, in _log\n",
            "        self._partial_history_callback(data, step, commit)\n",
            "    File \"/usr/local/lib/python3.7/dist-packages/wandb/sdk/wandb_run.py\", line 1231, in _partial_history_callback\n",
            "        publish_step=not_using_tensorboard,\n",
            "    File \"/usr/local/lib/python3.7/dist-packages/wandb/sdk/interface/interface.py\", line 534, in publish_partial_history\n",
            "        item.value_json = json_dumps_safer_history(v)\n",
            "    File \"/usr/local/lib/python3.7/dist-packages/wandb/util.py\", line 811, in json_dumps_safer_history\n",
            "        return json.dumps(obj, cls=WandBHistoryJSONEncoder, **kwargs)\n",
            "    File \"/usr/lib/python3.7/json/__init__.py\", line 238, in dumps\n",
            "        **kw).encode(obj)\n",
            "    File \"/usr/lib/python3.7/json/encoder.py\", line 199, in encode\n",
            "        chunks = self.iterencode(o, _one_shot=True)\n",
            "    File \"/usr/lib/python3.7/json/encoder.py\", line 257, in iterencode\n",
            "        return _iterencode(o, 0)\n",
            "    File \"/usr/local/lib/python3.7/dist-packages/wandb/util.py\", line 774, in default\n",
            "        obj, converted = json_friendly(obj)\n",
            "    File \"/usr/local/lib/python3.7/dist-packages/wandb/util.py\", line 573, in json_friendly\n",
            "        obj = obj.eval()\n",
            "\n",
            "    ValueError: Cannot evaluate tensor using `eval()`: No default session is registered. Use `with sess.as_default()` or pass an explicit session to `eval(session=sess)`\n",
            "\n",
            "\n",
            "\u001b[34m\u001b[1mwandb\u001b[0m: Waiting for W&B process to finish... \u001b[31m(failed 1).\u001b[0m Press Control-C to abort syncing.\n",
            "\u001b[34m\u001b[1mwandb\u001b[0m:                                                                                \n",
            "\u001b[34m\u001b[1mwandb\u001b[0m: Synced \u001b[33mfutile-dominion-6\u001b[0m: \u001b[34m\u001b[4mhttps://wandb.ai/jgim/improved_bagan_mnist_fashion_default/runs/drgdw1z1\u001b[0m\n",
            "\u001b[34m\u001b[1mwandb\u001b[0m: Synced 5 W&B file(s), 0 media file(s), 0 artifact file(s) and 0 other file(s)\n",
            "\u001b[34m\u001b[1mwandb\u001b[0m: Find logs at: \u001b[35m\u001b[1m./wandb/run-20220405_212439-drgdw1z1/logs\u001b[0m\n"
          ]
        }
      ],
      "source": [
        "!python improved_bagan_gp.py"
      ]
    },
    {
      "cell_type": "code",
      "execution_count": null,
      "metadata": {
        "id": "_g2NLxrCivlv"
      },
      "outputs": [],
      "source": [
        ""
      ]
    },
    {
      "cell_type": "markdown",
      "source": [
        "# Preprocessing"
      ],
      "metadata": {
        "id": "l-xoRyQU3G2N"
      }
    },
    {
      "cell_type": "code",
      "source": [
        "!ls"
      ],
      "metadata": {
        "colab": {
          "base_uri": "https://localhost:8080/"
        },
        "id": "gSiwdq9Z3H0P",
        "outputId": "2a23469c-a768-4a06-ed1f-1f15b6623660"
      },
      "execution_count": null,
      "outputs": [
        {
          "output_type": "stream",
          "name": "stdout",
          "text": [
            "bagan_gp_results  fid_score.py\t\ttsne_feature_resnet.py\n",
            "COVID-19\t  improved_bagan_gp.py\ttsne_plot.py\n",
            "fetch_data.py\t  Original_Paper\twandb\n"
          ]
        }
      ]
    },
    {
      "cell_type": "code",
      "source": [
        "from PIL import Image\n",
        "from numpy import asarray\n",
        "img = Image.open(\"COVID-19/dataset/covid-19/pneumonia_1.jpg\")\n",
        "#img2 = Image.open(\"COVID-19/dataset/no_findings/pneumonia_39.jpg\") \n",
        "#img = np.stack((img1, img2))"
      ],
      "metadata": {
        "id": "WgxH8fy93Zx6"
      },
      "execution_count": null,
      "outputs": []
    },
    {
      "cell_type": "code",
      "source": [
        "from matplotlib import pyplot as plt\n",
        "plt.imshow(img, interpolation='nearest')\n",
        "plt.show()"
      ],
      "metadata": {
        "colab": {
          "base_uri": "https://localhost:8080/",
          "height": 269
        },
        "id": "XJI926lHeOrj",
        "outputId": "7748db2a-00a2-4f65-f4a4-732dd34691e5"
      },
      "execution_count": null,
      "outputs": [
        {
          "output_type": "display_data",
          "data": {
            "text/plain": [
              "<Figure size 432x288 with 1 Axes>"
            ],
            "image/png": "[encoded data removed]"
          },
          "metadata": {
            "needs_background": "light"
          }
        }
      ]
    },
    {
      "cell_type": "code",
      "source": [
        "data = asarray(img)"
      ],
      "metadata": {
        "id": "5uF2nd7u3vyz"
      },
      "execution_count": null,
      "outputs": []
    },
    {
      "cell_type": "code",
      "source": [
        "data.shape"
      ],
      "metadata": {
        "colab": {
          "base_uri": "https://localhost:8080/"
        },
        "id": "nd0orTUM365O",
        "outputId": "c734db16-5163-4a5b-fbe4-0399dcdd45b1"
      },
      "execution_count": null,
      "outputs": [
        {
          "output_type": "execute_result",
          "data": {
            "text/plain": [
              "(1024, 1007)"
            ]
          },
          "metadata": {},
          "execution_count": 223
        }
      ]
    },
    {
      "cell_type": "code",
      "source": [
        "np.max(data)"
      ],
      "metadata": {
        "colab": {
          "base_uri": "https://localhost:8080/"
        },
        "id": "_ETPyL4NNV1X",
        "outputId": "8370d36b-b41d-45e8-fdfd-8c2df7c05c92"
      },
      "execution_count": null,
      "outputs": [
        {
          "output_type": "execute_result",
          "data": {
            "text/plain": [
              "208"
            ]
          },
          "metadata": {},
          "execution_count": 224
        }
      ]
    },
    {
      "cell_type": "code",
      "source": [
        "data = change_image_shape(data)\n",
        "print(data.shape)"
      ],
      "metadata": {
        "colab": {
          "base_uri": "https://localhost:8080/"
        },
        "id": "JkqUrW8WZRlF",
        "outputId": "6cd630f3-f0b8-4b61-991a-54b8370672e3"
      },
      "execution_count": null,
      "outputs": [
        {
          "output_type": "stream",
          "name": "stdout",
          "text": [
            "2\n",
            "(1024, 1007)\n"
          ]
        }
      ]
    },
    {
      "cell_type": "code",
      "source": [
        "#real[i] = cv2.resize(images[i], (64, 64)).reshape((64, 64, channel))\n",
        "import cv2\n",
        "data = cv2.resize(data[0], (64,64)).reshape((64, 64, 1))"
      ],
      "metadata": {
        "id": "6O0belU2buNX"
      },
      "execution_count": null,
      "outputs": []
    },
    {
      "cell_type": "code",
      "source": [
        "data.shape"
      ],
      "metadata": {
        "colab": {
          "base_uri": "https://localhost:8080/"
        },
        "id": "IFK-TbymddEb",
        "outputId": "9d468fdd-ba76-4249-8631-dc6e1402186e"
      },
      "execution_count": null,
      "outputs": [
        {
          "output_type": "execute_result",
          "data": {
            "text/plain": [
              "(64, 64, 1)"
            ]
          },
          "metadata": {},
          "execution_count": 193
        }
      ]
    },
    {
      "cell_type": "code",
      "source": [
        "from matplotlib import pyplot as plt\n",
        "#plt.imshow(data.reshape(64,64), interpolation='nearest')\n",
        "plt.imshow(data.reshape(64,64))\n",
        "plt.show()"
      ],
      "metadata": {
        "colab": {
          "base_uri": "https://localhost:8080/",
          "height": 268
        },
        "id": "QP5MCjgPdoM3",
        "outputId": "e1dbf7eb-a548-48cf-d4b0-dd84ffca208a"
      },
      "execution_count": null,
      "outputs": [
        {
          "output_type": "display_data",
          "data": {
            "text/plain": [
              "<Figure size 432x288 with 1 Axes>"
            ],
            "image/png": "[encoded data removed]"
          },
          "metadata": {
            "needs_background": "light"
          }
        }
      ]
    },
    {
      "cell_type": "code",
      "source": [
        "def change_image_shape(images):\n",
        "    shape_tuple = images.shape\n",
        "    print(len(shape_tuple))\n",
        "    if len(shape_tuple) == 3:\n",
        "        print(\"condition1\")\n",
        "        images = images.reshape(-1, shape_tuple[-1], shape_tuple[-1], 1)\n",
        "    elif shape_tuple == 4 and shape_tuple[-1] > 3:\n",
        "        print(\"condition2\")\n",
        "        images = images.reshape(-1, shape_tuple[-1], shape_tuple[-1], shape_tuple[1])\n",
        "    return images\n",
        "\n",
        "\n",
        "def my_change_image_shape(images):\n",
        "    #shape_tuple = images.shape\n",
        "    #print(len(shape_tuple))\n",
        "    images = images.reshape(64, 64)\n",
        "    return images"
      ],
      "metadata": {
        "id": "sYlxH-Vs3_gV"
      },
      "execution_count": null,
      "outputs": []
    },
    {
      "cell_type": "code",
      "source": [
        "from tensorflow.keras.datasets.fashion_mnist import load_data\n",
        "(images, labels), (_,_) = load_data()"
      ],
      "metadata": {
        "id": "MypWt-NiM3Ai"
      },
      "execution_count": null,
      "outputs": []
    },
    {
      "cell_type": "code",
      "source": [
        "labels[110]"
      ],
      "metadata": {
        "colab": {
          "base_uri": "https://localhost:8080/"
        },
        "id": "XEs-9RVhjP00",
        "outputId": "39526a02-454e-4790-e649-a4638391a27a"
      },
      "execution_count": null,
      "outputs": [
        {
          "output_type": "execute_result",
          "data": {
            "text/plain": [
              "8"
            ]
          },
          "metadata": {},
          "execution_count": 228
        }
      ]
    },
    {
      "cell_type": "code",
      "source": [
        "images[0].shape"
      ],
      "metadata": {
        "colab": {
          "base_uri": "https://localhost:8080/"
        },
        "id": "tjWOhJY6NCUR",
        "outputId": "4890ca04-5ed8-4e1e-ffda-b853dc83da9f"
      },
      "execution_count": null,
      "outputs": [
        {
          "output_type": "execute_result",
          "data": {
            "text/plain": [
              "(28, 28)"
            ]
          },
          "metadata": {},
          "execution_count": 95
        }
      ]
    },
    {
      "cell_type": "code",
      "source": [
        "np.max(images[0])"
      ],
      "metadata": {
        "colab": {
          "base_uri": "https://localhost:8080/"
        },
        "id": "d38cL04-NGlq",
        "outputId": "c2501b35-7df9-4104-feda-3d64f8e33dbf"
      },
      "execution_count": null,
      "outputs": [
        {
          "output_type": "execute_result",
          "data": {
            "text/plain": [
              "255"
            ]
          },
          "metadata": {},
          "execution_count": 96
        }
      ]
    },
    {
      "cell_type": "code",
      "source": [
        "images.shape[-1]"
      ],
      "metadata": {
        "colab": {
          "base_uri": "https://localhost:8080/"
        },
        "id": "39H40lIbTOdY",
        "outputId": "1ab48f72-190b-4108-fcf3-3340947f3c0e"
      },
      "execution_count": null,
      "outputs": [
        {
          "output_type": "execute_result",
          "data": {
            "text/plain": [
              "28"
            ]
          },
          "metadata": {},
          "execution_count": 102
        }
      ]
    },
    {
      "cell_type": "code",
      "source": [
        "r = change_image_shape(data)\n",
        "labels.reshape(-1)"
      ],
      "metadata": {
        "colab": {
          "base_uri": "https://localhost:8080/"
        },
        "id": "Tbn6GEz56ef3",
        "outputId": "50fb8679-56eb-4c6f-f0cd-2fac8a3dc7b2"
      },
      "execution_count": null,
      "outputs": [
        {
          "output_type": "stream",
          "name": "stdout",
          "text": [
            "2\n"
          ]
        },
        {
          "output_type": "execute_result",
          "data": {
            "text/plain": [
              "array([9, 0, 0, ..., 3, 0, 5], dtype=uint8)"
            ]
          },
          "metadata": {},
          "execution_count": 98
        }
      ]
    },
    {
      "cell_type": "code",
      "source": [
        "r.shape"
      ],
      "metadata": {
        "colab": {
          "base_uri": "https://localhost:8080/"
        },
        "id": "ZBstTug36gpC",
        "outputId": "51250a1a-f4de-4fb7-dc6c-fa243293599a"
      },
      "execution_count": null,
      "outputs": [
        {
          "output_type": "execute_result",
          "data": {
            "text/plain": [
              "(1024, 1007)"
            ]
          },
          "metadata": {},
          "execution_count": 28
        }
      ]
    },
    {
      "cell_type": "code",
      "source": [
        "from tensorflow.keras.utils import image_dataset_from_directory"
      ],
      "metadata": {
        "id": "BU47S3Qu6o2o"
      },
      "execution_count": null,
      "outputs": []
    },
    {
      "cell_type": "code",
      "source": [
        "!pwd"
      ],
      "metadata": {
        "colab": {
          "base_uri": "https://localhost:8080/"
        },
        "id": "5HLp5nhq8QC2",
        "outputId": "a97c1bdf-8fca-45a1-e8c8-9061258f7c36"
      },
      "execution_count": null,
      "outputs": [
        {
          "output_type": "stream",
          "name": "stdout",
          "text": [
            "/content/drive/MyDrive/Improved_BAGAN\n"
          ]
        }
      ]
    },
    {
      "cell_type": "code",
      "source": [
        "!ls"
      ],
      "metadata": {
        "colab": {
          "base_uri": "https://localhost:8080/"
        },
        "id": "-w3LCTFs81Hw",
        "outputId": "a149651b-5d65-4ece-ac4f-1d0c95d1ef45"
      },
      "execution_count": null,
      "outputs": [
        {
          "output_type": "stream",
          "name": "stdout",
          "text": [
            "bagan_gp_results  fid_score.py\t\ttsne_feature_resnet.py\n",
            "COVID-19\t  improved_bagan_gp.py\ttsne_plot.py\n",
            "fetch_data.py\t  Original_Paper\twandb\n"
          ]
        }
      ]
    },
    {
      "cell_type": "code",
      "source": [
        "import pathlib\n",
        "base_dir = pathlib.Path(\"/content/drive/My Drive/Improved_BAGAN/COVID-19\")"
      ],
      "metadata": {
        "id": "-jm3PSqc9KsK"
      },
      "execution_count": null,
      "outputs": []
    },
    {
      "cell_type": "code",
      "source": [
        "import pathlib\n",
        "base_dir = pathlib.Path(\"/content/drive/My Drive/Improved_BAGAN/COVID-19\")\n",
        "train_dataset = image_dataset_from_directory(\n",
        "    base_dir / \"dataset\",\n",
        "    image_size=(64,64),\n",
        "    color_mode=\"grayscale\",\n",
        "    batch_size=None,\n",
        "    label_mode=None\n",
        "    )"
      ],
      "metadata": {
        "colab": {
          "base_uri": "https://localhost:8080/"
        },
        "id": "IcxTofPr7v14",
        "outputId": "583a2c79-62b5-4998-983b-aad6055a1d0a"
      },
      "execution_count": null,
      "outputs": [
        {
          "output_type": "stream",
          "name": "stdout",
          "text": [
            "Found 1130 files belonging to 1 classes.\n"
          ]
        }
      ]
    },
    {
      "cell_type": "code",
      "source": [
        ""
      ],
      "metadata": {
        "id": "oor7sv3MVZvN"
      },
      "execution_count": null,
      "outputs": []
    },
    {
      "cell_type": "markdown",
      "source": [
        "# More data Preprocessing:"
      ],
      "metadata": {
        "id": "JpZnrcM6560f"
      }
    },
    {
      "cell_type": "code",
      "source": [
        "import os, shutil, pathlib\n",
        "\n",
        "def process_dataset(subset_name, start_index, end_index, \n",
        "                    categories, original_dir, new_base_dir):\n",
        "  for category in categories:\n",
        "        dir = new_base_dir / subset_name / category\n",
        "        os.makedirs(dir)\n",
        "        fnames = [f\"{category}.{i}.jpg\"\n",
        "                  for i in range(start_index, end_index)]\n",
        "        for fname in fnames:\n",
        "            shutil.copyfile(src=original_dir / fname, dst=dir / fname)  "
      ],
      "metadata": {
        "id": "NafuiqyOZMTr"
      },
      "execution_count": null,
      "outputs": []
    },
    {
      "cell_type": "code",
      "source": [
        "#x_train, x_test, y_train, y_test = train_test_split(real, labels, test_size=0.3, shuffle=True, random_state=42)\n",
        "import pathlib\n",
        "from tensorflow.keras.utils import image_dataset_from_directory\n",
        "base_dir = pathlib.Path(\"/content/drive/My Drive/Improved_BAGAN/COVID-19/mini\")\n",
        "\n",
        "train_dataset = image_dataset_from_directory(\n",
        "    base_dir / \"train\",\n",
        "    image_size=(64,64),\n",
        "    #color_mode=\"grayscale\",\n",
        "    batch_size=None,\n",
        "    label_mode=\"categorical\",\n",
        "    labels=\"inferred\",\n",
        "    class_names=[\"covid_19\",\"no_findings\",\"pneumonia\"]\n",
        ")"
      ],
      "metadata": {
        "colab": {
          "base_uri": "https://localhost:8080/"
        },
        "id": "DiMGsKTm7IDV",
        "outputId": "e6833302-8eea-46da-fd84-b9fbc21e4a28"
      },
      "execution_count": null,
      "outputs": [
        {
          "output_type": "stream",
          "name": "stdout",
          "text": [
            "Found 40 files belonging to 3 classes.\n"
          ]
        }
      ]
    },
    {
      "cell_type": "code",
      "source": [
        "validation_dataset = image_dataset_from_directory(\n",
        "    base_dir / \"validation\",\n",
        "    image_size=(64,64),\n",
        "    #color_mode=\"grayscale\",\n",
        "    batch_size=None,\n",
        "    label_mode=\"categorical\",\n",
        "    labels=\"inferred\",\n",
        "    class_names=[\"covid_19\",\"no_findings\",\"pneumonia\"]\n",
        ")"
      ],
      "metadata": {
        "colab": {
          "base_uri": "https://localhost:8080/"
        },
        "id": "L54kxwP0gwEk",
        "outputId": "5662fbeb-f659-4ef6-eb9d-dd4b71b9a10d"
      },
      "execution_count": null,
      "outputs": [
        {
          "output_type": "stream",
          "name": "stdout",
          "text": [
            "Found 10 files belonging to 3 classes.\n"
          ]
        }
      ]
    },
    {
      "cell_type": "code",
      "source": [
        "validation_dataset.cardinality().numpy()"
      ],
      "metadata": {
        "colab": {
          "base_uri": "https://localhost:8080/"
        },
        "id": "q1FEh3VshEUn",
        "outputId": "9f965d63-a45f-4215-ba32-e64475cc7c82"
      },
      "execution_count": null,
      "outputs": [
        {
          "output_type": "execute_result",
          "data": {
            "text/plain": [
              "10"
            ]
          },
          "metadata": {},
          "execution_count": 47
        }
      ]
    },
    {
      "cell_type": "code",
      "source": [
        "for data_batch, labels_batch in validation_dataset:\n",
        "    print(\"Data batch shape:\", data_batch.shape)\n",
        "    print(\"Labels batch shape:\", labels_batch.shape)\n",
        "    break"
      ],
      "metadata": {
        "colab": {
          "base_uri": "https://localhost:8080/"
        },
        "id": "EhdDexLlhGAF",
        "outputId": "137df458-b0a8-4904-8767-80b0ef2a2e78"
      },
      "execution_count": null,
      "outputs": [
        {
          "output_type": "stream",
          "name": "stdout",
          "text": [
            "Data batch shape: (64, 64, 3)\n",
            "Labels batch shape: (3,)\n"
          ]
        }
      ]
    },
    {
      "cell_type": "code",
      "source": [
        "import numpy as np\n",
        "images = np.zeros((10, 64, 64, 3))\n",
        "i = 0\n",
        "for x, y in validation_dataset.take(-1):\n",
        "  #print(type(x))\n",
        "  #print(x.shape)\n",
        "  images[i,:,:,:] = x.numpy()\n",
        "  #print(y)\n",
        "  #print(y.shape)\n",
        "  i = i + 1\n",
        "  print(\"---\")"
      ],
      "metadata": {
        "colab": {
          "base_uri": "https://localhost:8080/"
        },
        "id": "njMOjFLNidXQ",
        "outputId": "7e909f75-b647-41b8-bc57-a79d166b5932"
      },
      "execution_count": null,
      "outputs": [
        {
          "output_type": "stream",
          "name": "stdout",
          "text": [
            "---\n",
            "---\n",
            "---\n",
            "---\n",
            "---\n",
            "---\n",
            "---\n",
            "---\n",
            "---\n",
            "---\n"
          ]
        }
      ]
    },
    {
      "cell_type": "code",
      "source": [
        "type(images), images.shape"
      ],
      "metadata": {
        "colab": {
          "base_uri": "https://localhost:8080/"
        },
        "id": "F2O1s_qKmNRs",
        "outputId": "1933f5e9-d67f-4e5e-fd94-d62d499d31a7"
      },
      "execution_count": null,
      "outputs": [
        {
          "output_type": "execute_result",
          "data": {
            "text/plain": [
              "(numpy.ndarray, (10, 64, 64, 3))"
            ]
          },
          "metadata": {},
          "execution_count": 49
        }
      ]
    },
    {
      "cell_type": "code",
      "source": [
        "!pwd"
      ],
      "metadata": {
        "colab": {
          "base_uri": "https://localhost:8080/"
        },
        "id": "88MRtBzLnV5o",
        "outputId": "28cb1626-1232-4719-b852-fcabeedb05e6"
      },
      "execution_count": null,
      "outputs": [
        {
          "output_type": "stream",
          "name": "stdout",
          "text": [
            "/content/drive/MyDrive/Improved_BAGAN\n"
          ]
        }
      ]
    },
    {
      "cell_type": "code",
      "source": [
        "#from tempfile import TemporaryFile\n",
        "#outfile = TemporaryFile()\n",
        "np.save(\"images.npy\", images)"
      ],
      "metadata": {
        "id": "Keb8pFLtnK2E"
      },
      "execution_count": null,
      "outputs": []
    },
    {
      "cell_type": "code",
      "source": [
        "!ls"
      ],
      "metadata": {
        "colab": {
          "base_uri": "https://localhost:8080/"
        },
        "id": "xwlIrGcdnfR0",
        "outputId": "f8e14080-c1b1-4ce7-f081-a08363a10a4e"
      },
      "execution_count": null,
      "outputs": [
        {
          "output_type": "stream",
          "name": "stdout",
          "text": [
            "bagan_gp_results  fid_score.py\t\tlogs\t\t\ttsne_plot.py\n",
            "COVID-19\t  images.npy\t\tOriginal_Paper\t\twandb\n",
            "fetch_data.py\t  improved_bagan_gp.py\ttsne_feature_resnet.py\n"
          ]
        }
      ]
    },
    {
      "cell_type": "code",
      "source": [
        "train = np.load('images.npy')\n",
        "# labels = np.load('y_train.npy')\n",
        "# images = change_image_shape(images)\n",
        "train.shape#, train[0]"
      ],
      "metadata": {
        "colab": {
          "base_uri": "https://localhost:8080/"
        },
        "id": "uj3lEeVFngWX",
        "outputId": "780ef8c6-bc1d-4941-e104-a3e777270aef"
      },
      "execution_count": null,
      "outputs": [
        {
          "output_type": "execute_result",
          "data": {
            "text/plain": [
              "(10, 64, 64, 3)"
            ]
          },
          "metadata": {},
          "execution_count": 54
        }
      ]
    },
    {
      "cell_type": "code",
      "source": [
        "img = change_image_shape(train)\n",
        "img.shape"
      ],
      "metadata": {
        "colab": {
          "base_uri": "https://localhost:8080/"
        },
        "id": "NBaHWKTLo0Bg",
        "outputId": "5acd1c59-8a80-42f6-dec5-3474f81d1db0"
      },
      "execution_count": null,
      "outputs": [
        {
          "output_type": "stream",
          "name": "stdout",
          "text": [
            "4\n"
          ]
        },
        {
          "output_type": "execute_result",
          "data": {
            "text/plain": [
              "(10, 64, 64, 3)"
            ]
          },
          "metadata": {},
          "execution_count": 56
        }
      ]
    },
    {
      "cell_type": "code",
      "source": [
        "import pathlib\n",
        "from tensorflow.keras.utils import image_dataset_from_directory\n",
        "base_dir = pathlib.Path(\"/content/drive/My Drive/Improved_BAGAN/COVID-19\")\n",
        "\n",
        "total_train_set = image_dataset_from_directory(\n",
        "    base_dir / \"dataset\",\n",
        "    image_size=(64,64),\n",
        "    #color_mode=\"grayscale\",\n",
        "    batch_size=None,\n",
        "    label_mode=\"categorical\",\n",
        "    labels=\"inferred\",\n",
        "    class_names=[\"covid_19\",\"no_findings\",\"pneumonia\"]\n",
        ")"
      ],
      "metadata": {
        "colab": {
          "base_uri": "https://localhost:8080/"
        },
        "id": "W5cyMslOzUYj",
        "outputId": "5828ae2e-05e8-48cf-ae08-8dd960917cc9"
      },
      "execution_count": null,
      "outputs": [
        {
          "output_type": "stream",
          "name": "stdout",
          "text": [
            "Found 1130 files belonging to 3 classes.\n"
          ]
        }
      ]
    },
    {
      "cell_type": "code",
      "source": [
        "print(total_train_set.cardinality().numpy())\n",
        "for data_batch, labels_batch in validation_dataset:\n",
        "    print(\"Data batch shape:\", data_batch.shape)\n",
        "    print(\"Labels batch shape:\", labels_batch.shape)\n",
        "    break"
      ],
      "metadata": {
        "colab": {
          "base_uri": "https://localhost:8080/"
        },
        "id": "gHG636b30e6B",
        "outputId": "7d48988e-ff9e-4cf6-8295-37211f4b4aa0"
      },
      "execution_count": null,
      "outputs": [
        {
          "output_type": "stream",
          "name": "stdout",
          "text": [
            "1130\n",
            "Data batch shape: (64, 64, 3)\n",
            "Labels batch shape: (3,)\n"
          ]
        }
      ]
    },
    {
      "cell_type": "code",
      "source": [
        "import numpy as np\n",
        "x_train = np.zeros((1130, 64, 64, 3))\n",
        "y_train = np.zeros((1130, 3))\n",
        "i = 0\n",
        "for x, y in total_train_set.take(-1):\n",
        "  x_train[i,:,:,:] = x.numpy()\n",
        "  y_train[i,:] = y.numpy()\n",
        "  i = i + 1\n",
        "print(i)"
      ],
      "metadata": {
        "id": "ZOMRgiNI0umY"
      },
      "execution_count": null,
      "outputs": []
    },
    {
      "cell_type": "code",
      "source": [
        "x_train.shape, y_train.shape"
      ],
      "metadata": {
        "colab": {
          "base_uri": "https://localhost:8080/"
        },
        "id": "ZAZeHlCn2eOo",
        "outputId": "c188ee20-35e4-4878-a2b3-09d2b3c01b45"
      },
      "execution_count": null,
      "outputs": [
        {
          "output_type": "execute_result",
          "data": {
            "text/plain": [
              "((1130, 64, 64, 3), (1130, 3))"
            ]
          },
          "metadata": {},
          "execution_count": 66
        }
      ]
    },
    {
      "cell_type": "code",
      "source": [
        "features = np.array([list(x[0].numpy()) for x in list(total_train_set)])\n",
        "labels = np.array([x[1].numpy() for x in list(total_train_set)])\n"
      ],
      "metadata": {
        "id": "kWJai7rt3RAu"
      },
      "execution_count": null,
      "outputs": []
    },
    {
      "cell_type": "code",
      "source": [
        "features.shape, labels.shape"
      ],
      "metadata": {
        "colab": {
          "base_uri": "https://localhost:8080/"
        },
        "id": "_zpKNssh3pMJ",
        "outputId": "062a7c05-a091-49b3-e010-2299817f4d9d"
      },
      "execution_count": null,
      "outputs": [
        {
          "output_type": "execute_result",
          "data": {
            "text/plain": [
              "((1130, 64, 64, 3), (1130, 3))"
            ]
          },
          "metadata": {},
          "execution_count": 68
        }
      ]
    },
    {
      "cell_type": "markdown",
      "source": [
        "# Final Data Preprocessing"
      ],
      "metadata": {
        "id": "r4E3heRE8LDL"
      }
    },
    {
      "cell_type": "code",
      "source": [
        "# Data Preprocessing\n",
        "import pathlib\n",
        "import numpy as np\n",
        "from tensorflow.keras.utils import image_dataset_from_directory\n",
        "base_dir = pathlib.Path(\"/content/drive/My Drive/Improved_BAGAN/COVID-19\")\n",
        "\n",
        "# Total set\n",
        "# Split in train and validation set is done by the original GAN model\n",
        "total_set = image_dataset_from_directory(\n",
        "    base_dir / \"dataset\",\n",
        "    image_size=(64,64),\n",
        "    color_mode=\"grayscale\",\n",
        "    batch_size=None,\n",
        "    label_mode=\"int\",\n",
        "    labels=\"inferred\",\n",
        "    class_names=[\"covid_19\",\"no_findings\",\"pneumonia\"]\n",
        ")\n",
        "\n",
        "# Divide in features and labels\n",
        "x_train = np.array([list(x[0].numpy()) for x in list(total_set)])\n",
        "y_train = np.array([x[1].numpy() for x in list(total_set)])\n",
        "\n",
        "print(y_train.shape)\n",
        "assert( x_train.shape == (1130, 64, 64, 1))\n",
        "assert( y_train.shape == (1130, ))\n",
        "\n",
        "from sklearn.model_selection import train_test_split\n",
        "SEED = 42\n",
        "x_train, x_val, y_train, y_val = train_test_split(x_train, y_train,\n",
        "                                                  random_state=SEED,\n",
        "                                                  test_size=0.2,\n",
        "                                                  stratify=y_train)\n",
        "\n",
        "# Store as npy files\n",
        "np.save(\"x_train.npy\", x_train)\n",
        "np.save(\"y_train.npy\", y_train)\n",
        "np.save(\"x_val.npy\", x_val)\n",
        "np.save(\"y_val.npy\", y_val)"
      ],
      "metadata": {
        "colab": {
          "base_uri": "https://localhost:8080/"
        },
        "id": "gsNfIlWM55pt",
        "outputId": "97133cc0-e115-44e4-f9d1-cf11cf336d7e"
      },
      "execution_count": 6,
      "outputs": [
        {
          "output_type": "stream",
          "name": "stdout",
          "text": [
            "Found 1130 files belonging to 3 classes.\n",
            "(1130,)\n"
          ]
        }
      ]
    },
    {
      "cell_type": "code",
      "source": [
        "!python improved_bagan_gp.py"
      ],
      "metadata": {
        "colab": {
          "base_uri": "https://localhost:8080/"
        },
        "id": "QbxW8GEn9DeQ",
        "outputId": "aaa2ce85-36b2-41b1-d5ae-d4aca75de769"
      },
      "execution_count": 9,
      "outputs": [
        {
          "output_type": "stream",
          "name": "stdout",
          "text": [
            "\u001b[34m\u001b[1mwandb\u001b[0m: Currently logged in as: \u001b[33mjgim\u001b[0m (use `wandb login --relogin` to force relogin)\n",
            "\u001b[34m\u001b[1mwandb\u001b[0m: Tracking run with wandb version 0.12.14\n",
            "\u001b[34m\u001b[1mwandb\u001b[0m: Run data is saved locally in \u001b[35m\u001b[1m/content/drive/MyDrive/Improved_BAGAN/wandb/run-20220410_145951-2lrie54v\u001b[0m\n",
            "\u001b[34m\u001b[1mwandb\u001b[0m: Run \u001b[1m`wandb offline`\u001b[0m to turn off syncing.\n",
            "\u001b[34m\u001b[1mwandb\u001b[0m: Syncing run \u001b[33mproud-wave-3\u001b[0m\n",
            "\u001b[34m\u001b[1mwandb\u001b[0m: ⭐️ View project at \u001b[34m\u001b[4mhttps://wandb.ai/jgim/xray_improved_bagan_v2.0\u001b[0m\n",
            "\u001b[34m\u001b[1mwandb\u001b[0m: 🚀 View run at \u001b[34m\u001b[4mhttps://wandb.ai/jgim/xray_improved_bagan_v2.0/runs/2lrie54v\u001b[0m\n",
            "images.shape: (10001, 28, 28)\n",
            "labels.shape: (10001,)\n",
            "xray dataset\n",
            "Get number of classes: 3\n",
            "x_train.shape: (723, 64, 64, 1)\n",
            "y_train.shape: (723,)\n",
            "x_test.shape: (181, 64, 64, 1)\n",
            "y_test.shape: (181,)\n",
            "Get number of classes: 3\n",
            "checking labels:\n",
            "0\n",
            "()\n",
            "/usr/local/lib/python3.7/dist-packages/keras/optimizer_v2/adam.py:105: UserWarning: The `lr` argument is deprecated, use `learning_rate` instead.\n",
            "  super(Adam, self).__init__(name, **kwargs)\n",
            "2022-04-10 14:59:56.518642: W tensorflow/core/common_runtime/gpu/gpu_bfc_allocator.cc:39] Overriding allow_growth setting because the TF_FORCE_GPU_ALLOW_GROWTH environment variable is set. Original config value was 0.\n",
            "Epoch 1/30\n",
            "6/6 [==============================] - 4s 172ms/step - loss: 0.3696 - val_loss: 0.4100\n",
            "Epoch 2/30\n",
            "6/6 [==============================] - 0s 57ms/step - loss: 0.2714 - val_loss: 0.4097\n",
            "Epoch 3/30\n",
            "6/6 [==============================] - 0s 55ms/step - loss: 0.2361 - val_loss: 0.4097\n",
            "Epoch 4/30\n",
            "6/6 [==============================] - 0s 55ms/step - loss: 0.2197 - val_loss: 0.4098\n",
            "Epoch 5/30\n",
            "6/6 [==============================] - 0s 55ms/step - loss: 0.2049 - val_loss: 0.4099\n",
            "Epoch 6/30\n",
            "6/6 [==============================] - 0s 61ms/step - loss: 0.1900 - val_loss: 0.4100\n",
            "Epoch 7/30\n",
            "6/6 [==============================] - 0s 55ms/step - loss: 0.1767 - val_loss: 0.4100\n",
            "Epoch 8/30\n",
            "6/6 [==============================] - 0s 55ms/step - loss: 0.1690 - val_loss: 0.4100\n",
            "Epoch 9/30\n",
            "6/6 [==============================] - 0s 55ms/step - loss: 0.1620 - val_loss: 0.4101\n",
            "Epoch 10/30\n",
            "6/6 [==============================] - 0s 55ms/step - loss: 0.1539 - val_loss: 0.4102\n",
            "Epoch 11/30\n",
            "6/6 [==============================] - 0s 55ms/step - loss: 0.1516 - val_loss: 0.4101\n",
            "Epoch 12/30\n",
            "6/6 [==============================] - 0s 55ms/step - loss: 0.1446 - val_loss: 0.4100\n",
            "Epoch 13/30\n",
            "6/6 [==============================] - 0s 55ms/step - loss: 0.1443 - val_loss: 0.4099\n",
            "Epoch 14/30\n",
            "6/6 [==============================] - 0s 55ms/step - loss: 0.1391 - val_loss: 0.4102\n",
            "Epoch 15/30\n",
            "6/6 [==============================] - 0s 55ms/step - loss: 0.1387 - val_loss: 0.4101\n",
            "Epoch 16/30\n",
            "6/6 [==============================] - 0s 56ms/step - loss: 0.1346 - val_loss: 0.4098\n",
            "Epoch 17/30\n",
            "6/6 [==============================] - 0s 55ms/step - loss: 0.1329 - val_loss: 0.4101\n",
            "Epoch 18/30\n",
            "6/6 [==============================] - 0s 55ms/step - loss: 0.1332 - val_loss: 0.4097\n",
            "Epoch 19/30\n",
            "6/6 [==============================] - 0s 55ms/step - loss: 0.1280 - val_loss: 0.4098\n",
            "Epoch 20/30\n",
            "6/6 [==============================] - 0s 56ms/step - loss: 0.1295 - val_loss: 0.4097\n",
            "Epoch 21/30\n",
            "6/6 [==============================] - 0s 55ms/step - loss: 0.1245 - val_loss: 0.4099\n",
            "Epoch 22/30\n",
            "6/6 [==============================] - 0s 55ms/step - loss: 0.1250 - val_loss: 0.4097\n",
            "Epoch 23/30\n",
            "6/6 [==============================] - 0s 55ms/step - loss: 0.1232 - val_loss: 0.4095\n",
            "Epoch 24/30\n",
            "6/6 [==============================] - 0s 55ms/step - loss: 0.1203 - val_loss: 0.4097\n",
            "Epoch 25/30\n",
            "6/6 [==============================] - 0s 55ms/step - loss: 0.1201 - val_loss: 0.4094\n",
            "Epoch 26/30\n",
            "6/6 [==============================] - 0s 55ms/step - loss: 0.1206 - val_loss: 0.4090\n",
            "Epoch 27/30\n",
            "6/6 [==============================] - 0s 55ms/step - loss: 0.1164 - val_loss: 0.4089\n",
            "Epoch 28/30\n",
            "6/6 [==============================] - 0s 55ms/step - loss: 0.1185 - val_loss: 0.4088\n",
            "Epoch 29/30\n",
            "6/6 [==============================] - 0s 62ms/step - loss: 0.1141 - val_loss: 0.4087\n",
            "Epoch 30/30\n",
            "6/6 [==============================] - 0s 56ms/step - loss: 0.1149 - val_loss: 0.4086\n",
            "<Figure size 600x400 with 6 Axes>\n",
            "LEARNING STEP #  1 --------------------------------------------------\n",
            "Epoch 1/2\n",
            "6/6 [==============================] - 14s 633ms/step - d_loss: 7.9936 - g_loss: 1.0132\n",
            "Epoch 2/2\n",
            "6/6 [==============================] - 4s 638ms/step - d_loss: 2.4181 - g_loss: 1.0325\n",
            "<Figure size 640x480 with 0 Axes>\n",
            "<Figure size 600x800 with 12 Axes>\n",
            "Traceback (most recent call last):\n",
            "  File \"improved_bagan_gp.py\", line 597, in <module>\n",
            "    wandb.log({\"example\": wandb.Image(img_str)})\n",
            "  File \"/usr/local/lib/python3.7/dist-packages/wandb/sdk/data_types/image.py\", line 133, in __init__\n",
            "    self._initialize_from_path(data_or_path)\n",
            "  File \"/usr/local/lib/python3.7/dist-packages/wandb/sdk/data_types/image.py\", line 227, in _initialize_from_path\n",
            "    self._set_file(path, is_tmp=False)\n",
            "  File \"/usr/local/lib/python3.7/dist-packages/wandb/sdk/data_types/base_types/media.py\", line 66, in _set_file\n",
            "    with open(self._path, \"rb\") as f:\n",
            "FileNotFoundError: [Errno 2] No such file or directory: 'xray_bagan_gp_results/generated_plot_0.png'\n",
            "\n",
            "\u001b[34m\u001b[1mwandb\u001b[0m: Waiting for W&B process to finish... \u001b[31m(failed 1).\u001b[0m Press Control-C to abort syncing.\n",
            "\u001b[34m\u001b[1mwandb\u001b[0m:                                                                                \n",
            "\u001b[34m\u001b[1mwandb\u001b[0m: Synced \u001b[33mproud-wave-3\u001b[0m: \u001b[34m\u001b[4mhttps://wandb.ai/jgim/xray_improved_bagan_v2.0/runs/2lrie54v\u001b[0m\n",
            "\u001b[34m\u001b[1mwandb\u001b[0m: Synced 5 W&B file(s), 0 media file(s), 0 artifact file(s) and 0 other file(s)\n",
            "\u001b[34m\u001b[1mwandb\u001b[0m: Find logs at: \u001b[35m\u001b[1m./wandb/run-20220410_145951-2lrie54v/logs\u001b[0m\n"
          ]
        }
      ]
    }
  ],
  "metadata": {
    "accelerator": "GPU",
    "colab": {
      "collapsed_sections": [
        "7mCgG9bV2tCb",
        "l-xoRyQU3G2N",
        "JpZnrcM6560f"
      ],
      "name": "Improved_BAGAN.ipynb",
      "provenance": []
    },
    "kernelspec": {
      "display_name": "Python 3",
      "name": "python3"
    },
    "language_info": {
      "name": "python"
    }
  },
  "nbformat": 4,
  "nbformat_minor": 0
}